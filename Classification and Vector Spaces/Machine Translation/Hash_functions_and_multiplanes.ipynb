{
  "nbformat": 4,
  "nbformat_minor": 0,
  "metadata": {
    "colab": {
      "provenance": []
    },
    "kernelspec": {
      "name": "python3",
      "display_name": "Python 3"
    },
    "language_info": {
      "name": "python"
    }
  },
  "cells": [
    {
      "cell_type": "markdown",
      "source": [
        "##**Hash Functions and Multiplanes**"
      ],
      "metadata": {
        "id": "f6jVthwW3_M5"
      }
    },
    {
      "cell_type": "markdown",
      "source": [
        "##**Hash tables**\n",
        "\n",
        "Hash tables are data structures that allow indexing data to make lookup tasks more efficient."
      ],
      "metadata": {
        "id": "IdAVxq5C4GL3"
      }
    },
    {
      "cell_type": "code",
      "execution_count": 2,
      "metadata": {
        "id": "V6xWcn2R3rF_"
      },
      "outputs": [],
      "source": [
        "import numpy as np\n",
        "import matplotlib.pyplot as plt\n",
        "import pprint # utilities for console printing\n",
        "from utils_nb import plot_vectors\n",
        "\n",
        "pp = pprint.PrettyPrinter(indent = 4) # Instantiate a pretty printer"
      ]
    },
    {
      "cell_type": "markdown",
      "source": [
        "In the next cell, we will define a straightforward hash function for integer numbers. The function will receive a list of integer numbers and the desired amount of buckets. The function will produce a hash table stored as a dictionary, where keys contain the hash keys, and the values will provide the hashed elements of the input list.\n",
        "\n",
        "The hash function is just the remainder of the integer division between each element and the desired number of buckets."
      ],
      "metadata": {
        "id": "vb5TEr9J4rR7"
      }
    },
    {
      "cell_type": "code",
      "source": [
        "def basic_hash_table(value_l, n_buckets):\n",
        "\n",
        "  def hash_function(value, n_buckets):\n",
        "    return int(value) % n_buckets\n",
        "\n",
        "  hash_table = {i:[] for i in range(n_buckets)} # Initialize all the buckets in the hash table as empty lists\n",
        "\n",
        "  for value in value_l:\n",
        "    hash_value = hash_function(value, n_buckets) # Get the hash key for the given value\n",
        "    hash_table[hash_value].append(value) # Add the element to the corresponding bucket\n",
        "\n",
        "  return hash_table"
      ],
      "metadata": {
        "id": "qHW1pmMo4lRY"
      },
      "execution_count": 3,
      "outputs": []
    },
    {
      "cell_type": "code",
      "source": [
        "value_l = [100, 10, 14, 17, 97] # Set of hash values\n",
        "hash_table_example = basic_hash_table(value_l, n_buckets = 10)\n",
        "pp.pprint(hash_table_example)"
      ],
      "metadata": {
        "colab": {
          "base_uri": "https://localhost:8080/"
        },
        "id": "2xCOO0zJ5Xnw",
        "outputId": "4ac90653-8725-432f-f196-278588098cc5"
      },
      "execution_count": 7,
      "outputs": [
        {
          "output_type": "stream",
          "name": "stdout",
          "text": [
            "{   0: [100, 10],\n",
            "    1: [],\n",
            "    2: [],\n",
            "    3: [],\n",
            "    4: [14],\n",
            "    5: [],\n",
            "    6: [],\n",
            "    7: [17, 97],\n",
            "    8: [],\n",
            "    9: []}\n"
          ]
        }
      ]
    },
    {
      "cell_type": "markdown",
      "source": [
        "##**Planes**\n",
        "Multiplanes hash functions are other types of hash functions. Multiplanes hash functions are based on the idea of numbering every single region that is formed by the intersection of n planes. In the following code, we show the most basic forms of the multiplanes principle. First, with a single plane:"
      ],
      "metadata": {
        "id": "ixI_Bv8q7Ghf"
      }
    },
    {
      "cell_type": "code",
      "source": [
        "P = np.array([[1, 1]]) # Define a single plane.\n",
        "fig, ax1 = plt.subplots(figsize = (8, 8)) # Create a plot\n",
        "\n",
        "plot_vectors([P], axes = [2, 2], ax = ax1) # Plot the plane P as a vector\n",
        "\n",
        "# Plot  random points.\n",
        "for i in range(0, 10):\n",
        "  v1 = np.array(np.random.uniform(-2, 2, 2)) # Get a pair of random numbers between -2 and 2\n",
        "  side_of_plane = np.sign(np.dot(P, v1.T))\n",
        "\n",
        "  # Color the points depending on the sign of the result of np.dot(P, point.T)\n",
        "  if side_of_plane == 1:\n",
        "    ax1.plot([v1[0]], [v1[1]], 'bo') # Plot blue points\n",
        "  else:\n",
        "    ax1.plot([v1[0]], [v1[1]], 'ro') # Plot red points\n",
        "\n",
        "plt.show()"
      ],
      "metadata": {
        "colab": {
          "base_uri": "https://localhost:8080/",
          "height": 682
        },
        "id": "OBh8z4AL5pI_",
        "outputId": "5ddcb1c9-b2ba-4944-9e4b-3b1540f951b6"
      },
      "execution_count": 14,
      "outputs": [
        {
          "output_type": "display_data",
          "data": {
            "text/plain": [
              "<Figure size 800x800 with 1 Axes>"
            ],
            "image/png": "[encoded data removed]"
          },
          "metadata": {}
        }
      ]
    },
    {
      "cell_type": "markdown",
      "source": [
        "The first thing to note is that the vector that defines the plane does not mark the boundary between the two sides of the plane. It marks the direction in which you find the 'positive' side of the plane. Not intuitive at all!\n",
        "\n",
        "If we want to plot the separation plane, we need to plot a line that is perpendicular to our vector `P`. We can get such a line using a $90^o$ rotation matrix.\n",
        "\n",
        "Feel free to change the direction of the plane `P`."
      ],
      "metadata": {
        "id": "B805QrV48WQA"
      }
    },
    {
      "cell_type": "code",
      "source": [
        "P = np.array([[-1, 2]]) # Define a single plane. You may change the direction\n",
        "\n",
        "# Get a new plane perpendicular to P. We use a rotation matrix\n",
        "PT = np.dot([[0, 1], [-1, 0]], P.T).T\n",
        "\n",
        "fig, ax1 = plt.subplots(figsize = (8, 8))  # Create a plot with custom size\n",
        "\n",
        "plot_vectors([P], colors = ['b'], axes = [2, 2], ax = ax1) # Plot the plane P as a vector\n",
        "\n",
        "# Plot the plane P as a 2 vectors.\n",
        "# We scale by 2 just to get the arrows outside the current box\n",
        "plot_vectors([PT * 4, PT * -4], colors = ['k', 'k'], axes = [4, 4], ax = ax1)\n",
        "\n",
        "# Plot 20 random points.\n",
        "for i in range(0, 20):\n",
        "  v1 = np.array(np.random.uniform(-4, 4, 2)) # Get a pair of random numbers between -4 and 4\n",
        "  side_of_plane = np.sign(np.dot(P, v1.T)) # Get the sign of the dot product with P\n",
        "  # Color the points depending on the sign of the result of np.dot(P, point.T)\n",
        "  if side_of_plane == 1:\n",
        "    ax1.plot([v1[0]], [v1[1]], 'bo') # Plot a blue point\n",
        "  else:\n",
        "    ax1.plot([v1[0]], [v1[1]], 'ro') # Plot a red plot\n",
        "\n",
        "plt.show()"
      ],
      "metadata": {
        "colab": {
          "base_uri": "https://localhost:8080/",
          "height": 682
        },
        "id": "1h62IXUM8E7_",
        "outputId": "86fcdf37-9b2c-4ff2-8b1d-b7a63f64ed9f"
      },
      "execution_count": 12,
      "outputs": [
        {
          "output_type": "display_data",
          "data": {
            "text/plain": [
              "<Figure size 800x800 with 1 Axes>"
            ],
            "image/png": "[encoded data removed]"
          },
          "metadata": {}
        }
      ]
    },
    {
      "cell_type": "code",
      "source": [
        "P = np.array([[1, 1]])      # Single plane\n",
        "v1 = np.array([[1, 2]])     # Sample point 1\n",
        "v2 = np.array([[-1, 1]])    # Sample point 2\n",
        "v3 = np.array([[-2, -1]])   # Sample point 3"
      ],
      "metadata": {
        "id": "TsaDo1Dw9dTn"
      },
      "execution_count": 15,
      "outputs": []
    },
    {
      "cell_type": "code",
      "source": [
        "np.dot(P, v1.T)"
      ],
      "metadata": {
        "colab": {
          "base_uri": "https://localhost:8080/"
        },
        "id": "30MwJBGi9rmG",
        "outputId": "c2a55708-80e5-4726-8c6e-c51829d5f78a"
      },
      "execution_count": 16,
      "outputs": [
        {
          "output_type": "execute_result",
          "data": {
            "text/plain": [
              "array([[3]])"
            ]
          },
          "metadata": {},
          "execution_count": 16
        }
      ]
    },
    {
      "cell_type": "code",
      "source": [
        "np.dot(P, v2.T)"
      ],
      "metadata": {
        "colab": {
          "base_uri": "https://localhost:8080/"
        },
        "id": "IS-qIG239tf9",
        "outputId": "a3ce6b56-94d5-4ae6-e66e-7b23039626f9"
      },
      "execution_count": 17,
      "outputs": [
        {
          "output_type": "execute_result",
          "data": {
            "text/plain": [
              "array([[0]])"
            ]
          },
          "metadata": {},
          "execution_count": 17
        }
      ]
    },
    {
      "cell_type": "code",
      "source": [
        "np.dot(P, v3.T)"
      ],
      "metadata": {
        "colab": {
          "base_uri": "https://localhost:8080/"
        },
        "id": "p-B0ZsO79upO",
        "outputId": "1e35ce54-4d77-4b1d-9d99-42d7a7d65917"
      },
      "execution_count": 18,
      "outputs": [
        {
          "output_type": "execute_result",
          "data": {
            "text/plain": [
              "array([[-3]])"
            ]
          },
          "metadata": {},
          "execution_count": 18
        }
      ]
    },
    {
      "cell_type": "markdown",
      "source": [
        "The function below checks in which side of the plane P is located the vector `v`"
      ],
      "metadata": {
        "id": "bWe3e05b9zb_"
      }
    },
    {
      "cell_type": "code",
      "source": [
        "def side_of_plane(P, v):\n",
        "  dotproduct = np.dot(P, v.T)  # Get the dot product P * v'\n",
        "  sign_of_dot_product = np.sign(dotproduct) # The sign of the elements of the dotproduct matrix\n",
        "  sign_of_dot_product_scalar = sign_of_dot_product.item() # The value of the first item\n",
        "  return sign_of_dot_product_scalar"
      ],
      "metadata": {
        "id": "oa3UuP1t9vpu"
      },
      "execution_count": 19,
      "outputs": []
    },
    {
      "cell_type": "code",
      "source": [
        "side_of_plane(P, v1)"
      ],
      "metadata": {
        "colab": {
          "base_uri": "https://localhost:8080/"
        },
        "id": "1Dxo5nG2-Spn",
        "outputId": "100837ce-7c53-4cd2-9c90-054c2141cc17"
      },
      "execution_count": 20,
      "outputs": [
        {
          "output_type": "execute_result",
          "data": {
            "text/plain": [
              "1"
            ]
          },
          "metadata": {},
          "execution_count": 20
        }
      ]
    },
    {
      "cell_type": "code",
      "source": [
        "side_of_plane(P, v2)"
      ],
      "metadata": {
        "colab": {
          "base_uri": "https://localhost:8080/"
        },
        "id": "ld8b9NB0-WMW",
        "outputId": "710659c4-b938-4307-d53e-9f7eb81ba561"
      },
      "execution_count": 21,
      "outputs": [
        {
          "output_type": "execute_result",
          "data": {
            "text/plain": [
              "0"
            ]
          },
          "metadata": {},
          "execution_count": 21
        }
      ]
    },
    {
      "cell_type": "code",
      "source": [
        "side_of_plane(P, v3)"
      ],
      "metadata": {
        "colab": {
          "base_uri": "https://localhost:8080/"
        },
        "id": "eb1unDvl-YX2",
        "outputId": "01d24571-375a-4760-aee5-583ecf97eb74"
      },
      "execution_count": 22,
      "outputs": [
        {
          "output_type": "execute_result",
          "data": {
            "text/plain": [
              "-1"
            ]
          },
          "metadata": {},
          "execution_count": 22
        }
      ]
    },
    {
      "cell_type": "markdown",
      "source": [
        "## Hash Function with multiple planes\n",
        "\n",
        "In the following section, we are going to define a hash function with a list of three custom planes in 2D."
      ],
      "metadata": {
        "id": "cE5nIlGG-dHX"
      }
    },
    {
      "cell_type": "code",
      "source": [
        "P1 = np.array([[1, 1]])   # First plane 2D\n",
        "P2 = np.array([[-1, 1]])  # Second plane 2D\n",
        "P3 = np.array([[-1, -1]]) # Third plane 2D\n",
        "P_l = [P1, P2, P3]  # List of arrays. It is the multi plane\n",
        "\n",
        "# Vector to search\n",
        "v = np.array([[2, 2]])"
      ],
      "metadata": {
        "id": "56sLCEZn-aQ-"
      },
      "execution_count": 23,
      "outputs": []
    },
    {
      "cell_type": "markdown",
      "source": [
        "The next function creates a hash value based on a set of planes. The output value is a combination of the side of the plane where the vector is localized with respect to the collection of planes.\n",
        "\n",
        "We can think of this list of planes as a set of basic hash functions, each of which can produce only 1 or 0 as output."
      ],
      "metadata": {
        "id": "jM3fe0h2-l3o"
      }
    },
    {
      "cell_type": "code",
      "source": [
        "def hash_multi_plane(P_l, v):\n",
        "  hash_value = 0\n",
        "  for i, P in enumerate(P_l):\n",
        "    sign = side_of_plane(P, v)\n",
        "    hash_i = 1 if sign >= 0 else 0\n",
        "    hash_value += 2**i * hash_i\n",
        "  return hash_value"
      ],
      "metadata": {
        "id": "7xQTIVng-lqY"
      },
      "execution_count": 26,
      "outputs": []
    },
    {
      "cell_type": "code",
      "source": [
        "hash_multi_plane(P_l, v) # Find the number of the plane that containes this value"
      ],
      "metadata": {
        "colab": {
          "base_uri": "https://localhost:8080/"
        },
        "id": "s4sxn9ND-kJm",
        "outputId": "126d6661-882d-495b-ff00-fbe1c8cc904d"
      },
      "execution_count": 27,
      "outputs": [
        {
          "output_type": "execute_result",
          "data": {
            "text/plain": [
              "3"
            ]
          },
          "metadata": {},
          "execution_count": 27
        }
      ]
    },
    {
      "cell_type": "markdown",
      "source": [
        "## Random Planes\n",
        "\n",
        "In the cell below, we create a set of three random planes"
      ],
      "metadata": {
        "id": "IKqcsHxA_T6_"
      }
    },
    {
      "cell_type": "code",
      "source": [
        "np.random.seed(42)\n",
        "num_dimensions = 2  # is 300 in assignment\n",
        "num_planes = 3 # is 10 in assignment\n",
        "random_planes_matrix = np.random.normal(size = (num_planes, num_dimensions))\n",
        "print(random_plane_matrix)"
      ],
      "metadata": {
        "colab": {
          "base_uri": "https://localhost:8080/"
        },
        "id": "QUOkkMpr_I0H",
        "outputId": "320f9acf-09ca-4c45-cb84-96f2f60d0a1e"
      },
      "execution_count": 33,
      "outputs": [
        {
          "output_type": "stream",
          "name": "stdout",
          "text": [
            "[[ 0.49671415 -0.1382643 ]\n",
            " [ 0.64768854  1.52302986]\n",
            " [-0.23415337 -0.23413696]]\n"
          ]
        }
      ]
    },
    {
      "cell_type": "code",
      "source": [
        "v = np.array([[2, 2]])"
      ],
      "metadata": {
        "id": "81Q_YB4k_pcX"
      },
      "execution_count": 34,
      "outputs": []
    },
    {
      "cell_type": "markdown",
      "source": [
        "The next function is similar to the `side_of_plane()` function, but it evaluates more than a plane each time. The result is an array with the side of the plane of `v`, for the set of planes `P`"
      ],
      "metadata": {
        "id": "Z2XtwbRW_yWg"
      }
    },
    {
      "cell_type": "code",
      "source": [
        "# Side of the plane function. The result is a matrix\n",
        "def side_of_plane_matrix(P, v):\n",
        "  dotproduct = np.dot(P, v.T)\n",
        "  sign_of_dot_product = np.sign(dotproduct) # Get a boolean value telling if the value in the cell is positive or negative\n",
        "  return sign_of_dot_product"
      ],
      "metadata": {
        "id": "O2ynsg7W_w5G"
      },
      "execution_count": 35,
      "outputs": []
    },
    {
      "cell_type": "markdown",
      "source": [
        "Get the side of the plane of the vector `[2, 2]` for the set of random planes."
      ],
      "metadata": {
        "id": "3MiXobcsAD7P"
      }
    },
    {
      "cell_type": "code",
      "source": [
        "sides_l = side_of_plane_matrix(\n",
        "    random_planes_matrix, v\n",
        ")\n",
        "sides_l"
      ],
      "metadata": {
        "colab": {
          "base_uri": "https://localhost:8080/"
        },
        "id": "NiIKefULAB2e",
        "outputId": "5e695287-f39e-4430-c238-d8e1d369b2ed"
      },
      "execution_count": 36,
      "outputs": [
        {
          "output_type": "execute_result",
          "data": {
            "text/plain": [
              "array([[ 1.],\n",
              "       [ 1.],\n",
              "       [-1.]])"
            ]
          },
          "metadata": {},
          "execution_count": 36
        }
      ]
    },
    {
      "cell_type": "markdown",
      "source": [
        "Now, let us use the former function to define our multiplane hash function"
      ],
      "metadata": {
        "id": "GAq6cQa6AZrf"
      }
    },
    {
      "cell_type": "code",
      "source": [
        "def hash_multi_plane_matrix(P, v, num_planes):\n",
        "  sides_matrix = side_of_plane_matrix(P, v) # Get the side of planes for P and v\n",
        "  hash_value = 0\n",
        "  for i in range(num_planes):\n",
        "    sign = sides_matrix[i].item() # Get the value inside the matrix cell\n",
        "    hash_i = 1 if sign >= 0 else 0\n",
        "    hash_value += 2**i * hash_i  # sum 2^i * hash_i\n",
        "  return hash_value"
      ],
      "metadata": {
        "id": "Q3Dci83SAMEW"
      },
      "execution_count": 37,
      "outputs": []
    },
    {
      "cell_type": "markdown",
      "source": [
        "Print the bucket hash for the vector `v = [2, 2]`."
      ],
      "metadata": {
        "id": "FjVaNWK2A3HY"
      }
    },
    {
      "cell_type": "code",
      "source": [
        "hash_multi_plane_matrix(random_planes_matrix, v, num_planes)"
      ],
      "metadata": {
        "colab": {
          "base_uri": "https://localhost:8080/"
        },
        "id": "l6RwSJenA1g_",
        "outputId": "5491f389-cec2-4248-ac9f-8012f977a23f"
      },
      "execution_count": 38,
      "outputs": [
        {
          "output_type": "execute_result",
          "data": {
            "text/plain": [
              "3"
            ]
          },
          "metadata": {},
          "execution_count": 38
        }
      ]
    },
    {
      "cell_type": "markdown",
      "source": [
        "This showed you how to make one set of random planes.  You will make multiple sets of random planes in order to make the approximate nearest neighbors more accurate."
      ],
      "metadata": {
        "id": "aBgROFKIA7o3"
      }
    },
    {
      "cell_type": "markdown",
      "source": [
        "###**Document vectors**\n",
        "\n",
        "We can represent document as a vector by adding up the word vectors for the words inside the document. In this example, our embedding contains only three words, each represented by a 3D array."
      ],
      "metadata": {
        "id": "oeONOPD_BD9P"
      }
    },
    {
      "cell_type": "code",
      "source": [
        "word_embedding = {\"I\": np.array([1,0,1]),\n",
        "                   \"love\": np.array([-1,0,1]),\n",
        "                   \"learning\": np.array([1,0,1])\n",
        "                  }\n",
        "words_in_document = ['I', 'love', 'learning', 'not_a_word']\n",
        "document_embedding = np.array([0,0,0])\n",
        "for word in words_in_document:\n",
        "    document_embedding += word_embedding.get(word,0)\n",
        "\n",
        "print(document_embedding)"
      ],
      "metadata": {
        "colab": {
          "base_uri": "https://localhost:8080/"
        },
        "id": "iLQqdXpgA5Qf",
        "outputId": "22c713e3-2b30-439a-f8d4-7ce614d828a1"
      },
      "execution_count": 41,
      "outputs": [
        {
          "output_type": "stream",
          "name": "stdout",
          "text": [
            "[1 0 3]\n"
          ]
        }
      ]
    },
    {
      "cell_type": "code",
      "source": [],
      "metadata": {
        "id": "_CiT03yaBlZu"
      },
      "execution_count": null,
      "outputs": []
    }
  ]
}